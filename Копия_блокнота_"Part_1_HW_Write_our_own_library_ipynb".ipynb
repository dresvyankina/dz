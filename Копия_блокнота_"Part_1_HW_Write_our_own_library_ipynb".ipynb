{
  "nbformat": 4,
  "nbformat_minor": 0,
  "metadata": {
    "colab": {
      "name": "Копия блокнота \"Part_1_HW_Write_our_own_library.ipynb\"",
      "provenance": [],
      "collapsed_sections": [],
      "include_colab_link": true
    },
    "kernelspec": {
      "name": "python3",
      "display_name": "Python 3"
    }
  },
  "cells": [
    {
      "cell_type": "markdown",
      "metadata": {
        "id": "view-in-github",
        "colab_type": "text"
      },
      "source": [
        "<a href=\"https://colab.research.google.com/github/dresvyankina/dz/blob/main/%D0%9A%D0%BE%D0%BF%D0%B8%D1%8F_%D0%B1%D0%BB%D0%BE%D0%BA%D0%BD%D0%BE%D1%82%D0%B0_%22Part_1_HW_Write_our_own_library_ipynb%22.ipynb\" target=\"_parent\"><img src=\"https://colab.research.google.com/assets/colab-badge.svg\" alt=\"Open In Colab\"/></a>"
      ]
    },
    {
      "cell_type": "markdown",
      "metadata": {
        "id": "-PkQ9hSoulSP"
      },
      "source": [
        "## Домашнее задание. Часть 1.\n",
        "\n",
        "- напишем свою собственную библиотеку\n",
        "\n",
        "Вего за эту часть ДЗ можно набрать максимум **11.5 баллов**. Разбиение баллов по каждой из задач представлено непосредственно перед текстом каждой задачи.\n",
        "\n",
        "**Дедлайн - пятница, 11.12.2020 в 23:59.**\n",
        "\n",
        "Дедлайн жесткий, сдача после дедлайна - 0 баллов за ДЗ."
      ]
    },
    {
      "cell_type": "markdown",
      "metadata": {
        "id": "raMUrDs_OUUp"
      },
      "source": [
        "Ссылка на ноутбук в колабе: https://colab.research.google.com/drive/1LgWtESFmiNW1WlVFCHKyNl_BxAWxoL3Z?usp=sharing"
      ]
    },
    {
      "cell_type": "markdown",
      "metadata": {
        "id": "DlJPKMxvBZDq"
      },
      "source": [
        "Допустим мы хотим написать фнкцию, которая складывает 2 числа и сохранить ее в отдельный .py файл. Пример:"
      ]
    },
    {
      "cell_type": "code",
      "metadata": {
        "colab": {
          "base_uri": "https://localhost:8080/"
        },
        "id": "YWxx_tJFBWXc",
        "outputId": "5f79e40f-85dd-479e-ca69-186d9d789e32"
      },
      "source": [
        "%%writefile lib.py\n",
        "def summ(a1, b1):\n",
        "    return a1+b1"
      ],
      "execution_count": null,
      "outputs": [
        {
          "output_type": "stream",
          "text": [
            "Overwriting lib.py\n"
          ],
          "name": "stdout"
        }
      ]
    },
    {
      "cell_type": "code",
      "metadata": {
        "id": "GpwqwV2XBWe0"
      },
      "source": [
        "from lib import summ"
      ],
      "execution_count": null,
      "outputs": []
    },
    {
      "cell_type": "code",
      "metadata": {
        "colab": {
          "base_uri": "https://localhost:8080/"
        },
        "id": "PdSwrEkYud_1",
        "outputId": "fac217fb-39d2-4d03-8273-485e76422259"
      },
      "source": [
        "summ(2,6)"
      ],
      "execution_count": null,
      "outputs": [
        {
          "output_type": "execute_result",
          "data": {
            "text/plain": [
              "8"
            ]
          },
          "metadata": {
            "tags": []
          },
          "execution_count": 3
        }
      ]
    },
    {
      "cell_type": "markdown",
      "metadata": {
        "id": "lzVEq6dcB_B6"
      },
      "source": [
        "Попробуем запустить через \"терминал\""
      ]
    },
    {
      "cell_type": "code",
      "metadata": {
        "id": "GnvjY52dB9F0"
      },
      "source": [
        "!python3 lib.py"
      ],
      "execution_count": null,
      "outputs": []
    },
    {
      "cell_type": "markdown",
      "metadata": {
        "id": "12k4C-iDCGD5"
      },
      "source": [
        "Ничего не происходит. А теперь добавим `if __name__ == \"__main__\"` в наш код и пересохраним файл lib.py"
      ]
    },
    {
      "cell_type": "code",
      "metadata": {
        "colab": {
          "base_uri": "https://localhost:8080/"
        },
        "id": "EXxDy4EoujyT",
        "outputId": "974e07a4-f4ba-4f19-8efc-1ec22fdb57cc"
      },
      "source": [
        "%%writefile lib.py\n",
        "import sys\n",
        "\n",
        "a1 = float( sys.argv[1] ) # Считываем аргументы прямо из терминала\n",
        "b1 = float( sys.argv[2] ) # Считываем аргументы прямо из терминала\n",
        "\n",
        "def summ(a1, b1):\n",
        "    return a1+b1\n",
        "\n",
        "if __name__ == \"__main__\":\n",
        "    print(summ(a1, b1))\n"
      ],
      "execution_count": null,
      "outputs": [
        {
          "output_type": "stream",
          "text": [
            "Overwriting lib.py\n"
          ],
          "name": "stdout"
        }
      ]
    },
    {
      "cell_type": "code",
      "metadata": {
        "colab": {
          "base_uri": "https://localhost:8080/"
        },
        "id": "9kg9IKcWuj1F",
        "outputId": "676e3080-0c7e-403b-dcdb-751f623ff1d6"
      },
      "source": [
        "\r\n",
        "!python3 lib.py 2 4"
      ],
      "execution_count": null,
      "outputs": [
        {
          "output_type": "stream",
          "text": [
            "6.0\n"
          ],
          "name": "stdout"
        }
      ]
    },
    {
      "cell_type": "markdown",
      "metadata": {
        "id": "MEQd0OJnD4ut"
      },
      "source": [
        "# **Задание 1**\n",
        "\n",
        "Реализуйте следующие функции и сохраните их в библиотеку **my_math_lib.py** (пока без использования конструкции `if __name__ == \"__main__\"`)"
      ]
    },
    {
      "cell_type": "markdown",
      "metadata": {
        "id": "-irvYNmrD9FA"
      },
      "source": [
        "**1 point** \n",
        "1. **def deg_to_rad()**. Напишите программу на Python для преобразования градусов в радианы.  *(Note: Радиан - это стандартная единица измерения угла, используемая во многих областях математики. Измерение угла в радианах численно равно длине соответствующей дуги единичного круга; один радиан чуть меньше 57,3 градуса)* **1 point**\n",
        "\n",
        "**1 point** \n",
        "2. **def rad_to_def()**. Напишите программу Python для преобразования радианов в градусы.\n",
        "\n",
        "**1.5 point** \n",
        "3. **def discriminant()**. Напишите программу на Python для вычисления значения дискриминанта (вспоминаем квадратные уравнения). Входные данные три числа: x, y, z (учтите что корни могут быть комлЕксными!)\n",
        "\n",
        "**1.5 point** \n",
        "4. **def power_base_sum()**. Напишите программу на Python, чтобы вычислить сумму всех цифр основания в указанной степени.\n",
        "\n",
        "Пример: power_base_sum(2, 100)\n",
        "\n",
        "Выход: 115\n",
        "\n",
        "\n",
        "\n",
        "**2 point** \n",
        "5. **def magic_square()**. Напишите программу на Python для вычисления [магического квадрата](https://ru.wikipedia.org/wiki/Магический_квадрат)\n",
        "\n",
        "Note:\n",
        "\n",
        "Магический, или волшебный квадрат — это квадратная таблица , заполненная числами таким образом, что сумма чисел в каждой строке, каждом столбце и на обеих диагоналях одинакова. Сумма чисел в каждой строке, столбце и на диагоналях, называется магической константой, M.\n",
        "\n",
        "**1 point** \n",
        "6. **def mult_list()**. Напишите функцию Python для умножения всех чисел в массиве list(), (размер листа на входе произвольный)\n",
        "\n",
        "**1 point** \n",
        "7. **def create_list()**. Напишите функцию Python для создания и вывода списка (при помощи print()), в котором значения представляют собой квадрат чисел от 1 до 30 (оба включительно)."
      ]
    },
    {
      "cell_type": "code",
      "metadata": {
        "id": "cxjYPNRAIBqe"
      },
      "source": [
        "#TODO\r\n"
      ],
      "execution_count": null,
      "outputs": []
    },
    {
      "cell_type": "code",
      "metadata": {
        "id": "YcvXEEFsD8Pn",
        "colab": {
          "base_uri": "https://localhost:8080/"
        },
        "outputId": "3a9ff53e-970f-4935-9c8b-67dc07d02286"
      },
      "source": [
        "%%writefile my_math_lib.py\r\n",
        "import math\r\n",
        "\r\n",
        "def deg_to_rad(a):\r\n",
        "    return round((a*math.pi)/180)\r\n",
        " #/ return math.radians(a)\r\n",
        "\r\n",
        " def rad_to_def(a):\r\n",
        "    return round((a * 180 / math.pi), 2)\r\n",
        " #/ return math.degrees(a) \r\n",
        "\r\n",
        " def discriminant(x,y,z):\r\n",
        "    discriminant = y**2 - 4*x*z\r\n",
        "    return (discriminant)\r\n",
        "\r\n",
        "def power_base_sum(a,c):\r\n",
        "    s = 0\r\n",
        "    d = a**c\r\n",
        "    while d != 0:\r\n",
        "        s = s + d % 10\r\n",
        "        d = d//10\r\n",
        "    return s\r\n",
        "\r\n",
        "def mult_list(a):\r\n",
        "    list1 = [i for i in range(1, a)]\r\n",
        "    pr = 1\r\n",
        "    for i in range(len(list1)):\r\n",
        "        pr = pr * list1[i]\r\n",
        "    return pr\r\n",
        "\r\n",
        "def create_list():\r\n",
        "    sq = [i * i for i in range(1, 31)]\r\n",
        "    print(sq, end=' ')"
      ],
      "execution_count": 1,
      "outputs": [
        {
          "output_type": "stream",
          "text": [
            "Overwriting my_math_lib.py\n"
          ],
          "name": "stdout"
        }
      ]
    },
    {
      "cell_type": "markdown",
      "metadata": {
        "id": "cSdLK3ZSID3B"
      },
      "source": [
        "# **Задание 2**\n",
        "Импортируйте все методы из модуля my_math_lib.\n",
        "\n",
        " **0.25 point** \n",
        " - при помощи функции **def discriminant()** посчитайте дискриминант следующего уравнения: \n",
        " $x^{2}+3 x+4=0$\n",
        "\n",
        "**0.25 point** \n",
        " - постройте магический квадрат размера 5х5"
      ]
    },
    {
      "cell_type": "code",
      "metadata": {
        "id": "k1Jhjs6FD8Sy",
        "colab": {
          "base_uri": "https://localhost:8080/"
        },
        "outputId": "3c4df1c0-e171-44ec-c346-29a746ca1193"
      },
      "source": [
        "%%writefile my_math_lib.py\r\n",
        "def discriminant(x,y,z):\r\n",
        "    discriminant = y**2 - 4*x*z\r\n",
        "    return (discriminant)\r\n"
      ],
      "execution_count": 3,
      "outputs": [
        {
          "output_type": "stream",
          "text": [
            "Overwriting my_math_lib.py\n"
          ],
          "name": "stdout"
        }
      ]
    },
    {
      "cell_type": "code",
      "metadata": {
        "id": "zjQVS7m8uj4J"
      },
      "source": [
        "from my_math_lib import discriminant\r\n"
      ],
      "execution_count": 4,
      "outputs": []
    },
    {
      "cell_type": "code",
      "metadata": {
        "colab": {
          "base_uri": "https://localhost:8080/"
        },
        "id": "tBWnWweNTmIG",
        "outputId": "24b3381f-54c1-43c5-add2-6041ba60d4cc"
      },
      "source": [
        "x=1\r\n",
        "y=3\r\n",
        "z=4\r\n",
        "discriminant = discriminant(x,y,z)\r\n",
        "if discriminant == 0:\r\n",
        "  a1 = a2 = -y / (2 * x)\r\n",
        "else:\r\n",
        "  a1 = (-y + discriminant ** 0.5) / (2 * x)\r\n",
        "  a2 = (-y - discriminant ** 0.5) / (2 * x)\r\n",
        "a1, a2\r\n"
      ],
      "execution_count": 5,
      "outputs": [
        {
          "output_type": "execute_result",
          "data": {
            "text/plain": [
              "((-1.5+1.3228756555322954j), (-1.5-1.3228756555322954j))"
            ]
          },
          "metadata": {
            "tags": []
          },
          "execution_count": 5
        }
      ]
    },
    {
      "cell_type": "markdown",
      "metadata": {
        "id": "1xqoQlZkId3s"
      },
      "source": [
        "# **Задание 3**\n",
        "\n",
        "**2 point**\n",
        "* Добавьте в вашу библиотеку конструкцию `if __name__ == \"__main__\"`, которая должна принимать одну из вышеперечисленных функций. \n",
        "* Важно! аргументы, подаваемые в функцию, должны подаваться напряму через терминал (как в примере)! Используйте для этого библиотеку `sys`"
      ]
    },
    {
      "cell_type": "code",
      "metadata": {
        "colab": {
          "base_uri": "https://localhost:8080/"
        },
        "id": "iXY8uKG8Q1QW",
        "outputId": "4b29690f-9283-4958-aefd-952374eb706e"
      },
      "source": [
        "%%writefile my_math_lib.py.py\r\n",
        "import sys\r\n",
        "\r\n",
        "x = float( sys.argv[1] ) # Считываем аргументы прямо из терминала\r\n",
        "y = float( sys.argv[2] ) # Считываем аргументы прямо из терминала\r\n",
        "z = float( sys.argv[3] ) # Считываем аргументы прямо из терминала\r\n",
        "\r\n",
        "def discriminant(x,y,z):\r\n",
        "    disc = y**2 - 4*x*z\r\n",
        "    if disc == 0:\r\n",
        "        a1 = a2 = -y / (2 * x)\r\n",
        "    else:\r\n",
        "        a1 = (-y + disc ** 0.5) / (2 * x)\r\n",
        "        a2 = (-y - disc ** 0.5) / (2 * x)\r\n",
        "    return (a1, a2)\r\n",
        "\r\n",
        "if __name__ == \"__main__\":\r\n",
        "    print(discriminant(x,y,z))"
      ],
      "execution_count": null,
      "outputs": [
        {
          "output_type": "stream",
          "text": [
            "Overwriting lib.py\n"
          ],
          "name": "stdout"
        }
      ]
    },
    {
      "cell_type": "code",
      "metadata": {
        "colab": {
          "base_uri": "https://localhost:8080/"
        },
        "id": "kRmn6nD-Q10n",
        "outputId": "eedc6199-4c3d-4177-daea-69afbe04afcc"
      },
      "source": [
        "!python3 my_math_lib.py 4 1 2"
      ],
      "execution_count": null,
      "outputs": [
        {
          "output_type": "stream",
          "text": [
            "((-0.12499999999999996+0.6959705453537527j), (-0.12500000000000006-0.6959705453537527j))\n"
          ],
          "name": "stdout"
        }
      ]
    },
    {
      "cell_type": "code",
      "metadata": {
        "id": "CPMx4V4DJIVx",
        "colab": {
          "base_uri": "https://localhost:8080/"
        },
        "outputId": "567bf977-b0a5-4cf2-914e-9216af833420"
      },
      "source": [
        "#TODO\r\n",
        "%%writefile my_math_lib.py\r\n",
        "import sys\r\n",
        "\r\n",
        "a = float( sys.argv[1] ) # Считываем аргументы прямо из терминала\r\n",
        "c = float( sys.argv[2] ) # Считываем аргументы прямо из терминала\r\n",
        "\r\n",
        "def power_base_sum(a, c):\r\n",
        "    s = 0\r\n",
        "    d = a**c\r\n",
        "    while d != 0:\r\n",
        "        s = s + d % 10\r\n",
        "        d = d//10\r\n",
        "    return s\r\n",
        "\r\n",
        "if __name__ == \"__main__\":\r\n",
        "    print(power_base_sum(a, c))"
      ],
      "execution_count": null,
      "outputs": [
        {
          "output_type": "stream",
          "text": [
            "Overwriting lib.py\n"
          ],
          "name": "stdout"
        }
      ]
    },
    {
      "cell_type": "code",
      "metadata": {
        "id": "UDQ_wTJbJAS7",
        "colab": {
          "base_uri": "https://localhost:8080/"
        },
        "outputId": "efcf279a-bcbe-47ce-bf65-3f6b1d5e3c4f"
      },
      "source": [
        "!python3 my_math_lib.py 2 100 #не понимаю почему ответ не совпадает на 1. Ниже написала проверку по пошаговому вывводу суммы по коду... "
      ],
      "execution_count": null,
      "outputs": [
        {
          "output_type": "stream",
          "text": [
            "114.0\n"
          ],
          "name": "stdout"
        }
      ]
    },
    {
      "cell_type": "code",
      "metadata": {
        "colab": {
          "base_uri": "https://localhost:8080/"
        },
        "id": "g-JmmFzoKQm6",
        "outputId": "9c077dfe-bffd-4cb4-9bf4-2273170a17ee"
      },
      "source": [
        "2**100"
      ],
      "execution_count": null,
      "outputs": [
        {
          "output_type": "execute_result",
          "data": {
            "text/plain": [
              "1267650600228229401496703205376"
            ]
          },
          "metadata": {
            "tags": []
          },
          "execution_count": 8
        }
      ]
    },
    {
      "cell_type": "code",
      "metadata": {
        "colab": {
          "base_uri": "https://localhost:8080/"
        },
        "id": "BrJeGK10PT8i",
        "outputId": "d9d523e2-8ba7-464e-a102-61df57b69a1e"
      },
      "source": [
        "s = 0\r\n",
        "d = 2**100\r\n",
        "while d != 0:\r\n",
        "    s = s + d % 10\r\n",
        "    d = d//10\r\n",
        "    print(s, end='  ')   "
      ],
      "execution_count": null,
      "outputs": [
        {
          "output_type": "stream",
          "text": [
            "6  13  16  21  21  23  26  26  33  39  48  52  53  53  57  66  68  70  78  80  82  82  82  88  88  93  99  106  112  114  115  "
          ],
          "name": "stdout"
        }
      ]
    }
  ]
}