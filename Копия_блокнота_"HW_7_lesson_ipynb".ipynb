{
  "nbformat": 4,
  "nbformat_minor": 0,
  "metadata": {
    "colab": {
      "name": "Копия блокнота \"HW_7_lesson.ipynb\"",
      "provenance": [],
      "collapsed_sections": [],
      "include_colab_link": true
    },
    "kernelspec": {
      "name": "python3",
      "display_name": "Python 3"
    }
  },
  "cells": [
    {
      "cell_type": "markdown",
      "metadata": {
        "id": "view-in-github",
        "colab_type": "text"
      },
      "source": [
        "<a href=\"https://colab.research.google.com/github/dresvyankina/dz/blob/main/%D0%9A%D0%BE%D0%BF%D0%B8%D1%8F_%D0%B1%D0%BB%D0%BE%D0%BA%D0%BD%D0%BE%D1%82%D0%B0_%22HW_7_lesson_ipynb%22.ipynb\" target=\"_parent\"><img src=\"https://colab.research.google.com/assets/colab-badge.svg\" alt=\"Open In Colab\"/></a>"
      ]
    },
    {
      "cell_type": "markdown",
      "metadata": {
        "id": "PDkG3Bis38V_"
      },
      "source": [
        "# Домашнее задание к 7 уроку.\n",
        "\n",
        "**Дедлайн: 23.12.2020**"
      ]
    },
    {
      "cell_type": "markdown",
      "metadata": {
        "id": "T_frQ-789isH"
      },
      "source": [
        "colab: https://colab.research.google.com/drive/1KLD5pDCa0ka_g1U4D2ExihaaEwXzfTPW?usp=sharing"
      ]
    },
    {
      "cell_type": "markdown",
      "metadata": {
        "id": "PzhnPFbL3igE"
      },
      "source": [
        "**ФОРМАТ ОТЧЕТНОСТИ:** pdf-файл с решенными задачами (задачи 2-9), ноутбук с проверкой решения этих задач (при помощи numpy), и pdf файл с отчетом по 1-ой задаче (краткий пересказ статьи). Вы можете оформить решения с использованием Markdown (писать текст прямо в юпитер ноутбуке), Latex, Word или же решить в тетради и сформировать pdf из фото.\n",
        "\n",
        "Итого: 2 pdf файла.\n",
        "\n",
        "Все задания необходимо выполнять ВРУЧНУЮ. А также проверить корректность полученных результатов с использованием Numpy.\n",
        "\n",
        "Туториал как писать \"Latex-формулы\" прямо в Юпитере:\n",
        "https://www.youtube.com/watch?v=vSc25kdgecg\n",
        "\n",
        "Ноутбук с примером формул: https://nbviewer.jupyter.org/github/postlogist/course_opt/blob/master/jupyter_tutorial/02_markdown.ipynb\n"
      ]
    },
    {
      "cell_type": "markdown",
      "metadata": {
        "id": "RU2u4fG55fBq"
      },
      "source": [
        "## Пример\n",
        "\n",
        "\n",
        "Найдем ранг матрицы \n",
        "\n",
        "$$\\begin{pmatrix}\n",
        "1 & 2 & 3 & 4 & 5\\\\ \n",
        "2 & 5 & 8 & 11 & 14\\\\ \n",
        "3 & 9 & 14 & 20 & 26\\\\ \n",
        "5 & 14 & 22 & 31 & 40\n",
        "\\end{pmatrix}.$$\n",
        "\n",
        "Четвертая строка является суммой второй и третьей строк, а значит, ее можно отбросить:\n",
        "\n",
        "$$\\begin{pmatrix}\n",
        "1 & 2 & 3 & 4 & 5\\\\ \n",
        "2 & 5 & 8 & 11 & 14\\\\ \n",
        "3 & 9 & 14 & 20 & 26\n",
        "\\end{pmatrix}.$$\n",
        "\n",
        "Из второй и третьей строк вычтем первую, умноженную на $2$ и $3$ соответственно:\n",
        "\n",
        "$$\\begin{pmatrix}\n",
        "1 & 2 & 3 & 4 & 5\\\\ \n",
        "0 & 1 & 2 & 3 & 4\\\\ \n",
        "0 & 2 & 5 & 8 & 11\n",
        "\\end{pmatrix}.$$\n",
        "\n",
        "И вычтем из третьей строки вторую, умноженную на $2$:\n",
        "\n",
        "$$\\begin{pmatrix}\n",
        "1 & 2 & 3 & 4 & 5\\\\ \n",
        "0 & 1 & 2 & 3 & 4\\\\ \n",
        "0 & 0 & 1 & 2 & 3\n",
        "\\end{pmatrix}.$$\n",
        "\n",
        "Таким образом, ранг матрицы равен $3$."
      ]
    },
    {
      "cell_type": "code",
      "metadata": {
        "colab": {
          "base_uri": "https://localhost:8080/"
        },
        "id": "c3mJUpE65vak",
        "outputId": "5a5debbc-1a4a-47a5-8b35-9b40b7caf531"
      },
      "source": [
        "# Проверка\n",
        "\n",
        "import numpy as np\n",
        "a = [1, 2, 3, 4, 5]\n",
        "b = [2, 5, 8, 11, 14]\n",
        "c = [3, 9, 14, 20, 26]\n",
        "d = [5, 14, 22, 31, 40]\n",
        "\n",
        "x = np.array([a, b, c, d])\n",
        "r = np.linalg.matrix_rank(x)\n",
        "\n",
        "print(f'Ранг матрицы: {r}')"
      ],
      "execution_count": null,
      "outputs": [
        {
          "output_type": "stream",
          "text": [
            "Ранг матрицы: 3\n"
          ],
          "name": "stdout"
        }
      ]
    },
    {
      "cell_type": "markdown",
      "metadata": {
        "id": "1NlQHLnE5iV-"
      },
      "source": [
        "# Задачи"
      ]
    },
    {
      "cell_type": "markdown",
      "metadata": {
        "id": "oOoLPT-d232H"
      },
      "source": [
        "**1.** Прочитать статью http://www.scielo.org.mx/pdf/cys/v18n3/v18n3a7.pdf и сделать следующее:\n",
        "\n",
        "- Написать кратко (не более 300 слов (минимум 100), отчет в формате pdf) о различиях между cosine similarity и soft similarity. Привести примеры использования и написать собственный пример вычисления cosine similarity и soft similarity для произвольных векторов (не брать вектора из статьи! надо самим придумать координаты/размерность векторов)"
      ]
    },
    {
      "cell_type": "markdown",
      "metadata": {
        "id": "2A79cNRu3BUA"
      },
      "source": [
        "__2.__ Найти сумму и произведение матриц $A=\\begin{pmatrix}\n",
        "1 & -2\\\\ \n",
        "3 & 0\n",
        "\\end{pmatrix}$ и $B=\\begin{pmatrix}\n",
        "4 & -1\\\\ \n",
        "0 & 5\n",
        "\\end{pmatrix}.$\n",
        "\n",
        "__3.__ Из закономерностей сложения и умножения матриц на число можно сделать вывод, что матрицы одного размера образуют линейное пространство. Вычислить линейную комбинацию $3A-2B+4C$ для матриц $A=\\begin{pmatrix}\n",
        "1 & 7\\\\ \n",
        "3 & -6\n",
        "\\end{pmatrix}$, $B=\\begin{pmatrix}\n",
        "0 & 5\\\\ \n",
        "2 & -1\n",
        "\\end{pmatrix}$, $C=\\begin{pmatrix}\n",
        "2 & -4\\\\ \n",
        "1 & 1\n",
        "\\end{pmatrix}.$\n",
        "    \n",
        "__4.__ Дана матрица $A=\\begin{pmatrix}\n",
        "4 & 1\\\\ \n",
        "5 & -2\\\\ \n",
        "2 & 3\n",
        "\\end{pmatrix}$.\n",
        "Вычислить $AA^{T}$ и $A^{T}A$.\n",
        "\n",
        "__5*.__ Написать на Python функцию для перемножения двух произвольных матриц, не используя NumPy."
      ]
    },
    {
      "cell_type": "markdown",
      "metadata": {
        "id": "-naSOZaf3L7s"
      },
      "source": [
        "\n",
        "__6.__ Вычислить определитель (используйте любой удобный для вас способ вычисления определителя: через миноры, через перестановки или другой):\n",
        "\n",
        "   a)\n",
        "\n",
        "$$\\begin{vmatrix}\n",
        "sinx & -cosx\\\\ \n",
        "cosx & sinx\n",
        "\\end{vmatrix};$$\n",
        "\n",
        "   б)\n",
        "    \n",
        "$$\\begin{vmatrix}\n",
        "8 & 4 & 6\\\\ \n",
        "0 & 5 & 1\\\\ \n",
        "0 & 0 & 9\n",
        "\\end{vmatrix};$$\n",
        "    \n",
        "   в)\n",
        "\n",
        "$$\\begin{vmatrix}\n",
        "2 & 3 & 4\\\\ \n",
        "5 & 6 & 7\\\\ \n",
        "8 & 9 & 10\n",
        "\\end{vmatrix}.$$\n",
        "\n",
        "\n",
        "__7.__ Определитель матрицы $A$ равен $4$. Найти:\n",
        "\n",
        "   а) $det(A^{2})$;\n",
        "    \n",
        "   б) $det(A^{T})$;\n",
        "    \n",
        "   в) $det(2A)$.\n",
        "   \n",
        "__8.__  Доказать, что матрица\n",
        "\n",
        "$$\\begin{pmatrix}\n",
        "-2 & 7 & -3\\\\ \n",
        "4 & -14 & 6\\\\ \n",
        "-3 & 7 & 13\n",
        "\\end{pmatrix}$$\n",
        "   \n",
        "вырожденная.\n",
        "\n",
        "__9.__ Найти ранг матрицы:\n",
        "\n",
        "   а) $\\begin{pmatrix}\n",
        "1 & 2 & 3\\\\ \n",
        "1 & 1 & 1\\\\ \n",
        "2 & 3 & 4\n",
        "\\end{pmatrix};$\n",
        "\n",
        "   б) $\\begin{pmatrix}\n",
        "0 & 0 & 2 & 1\\\\ \n",
        "0 & 0 & 2 & 2\\\\ \n",
        "0 & 0 & 4 & 3\\\\ \n",
        "2 & 3 & 5 & 6\n",
        "\\end{pmatrix}.$"
      ]
    },
    {
      "cell_type": "markdown",
      "metadata": {
        "id": "ekAaqmaE3E1T"
      },
      "source": [
        "# Доп материалы\n",
        "1. [Способы задать матрицу в NumPy](https://docs.scipy.org/doc/numpy-1.10.1/user/basics.creation.html).\n",
        "2. [numpy.transpose](https://docs.scipy.org/doc/numpy-1.10.0/reference/generated/numpy.transpose.html).\n",
        "3. [array.T](https://docs.scipy.org/doc/numpy-1.10.0/reference/generated/numpy.ndarray.T.html).\n",
        "4. [Перемножение матриц в NumPy](https://docs.scipy.org/doc/numpy-1.10.0/reference/routines.linalg.html#matrix-and-vector-products).\n",
        "\n",
        "5. [Определитель матрицы в NumPy](https://docs.scipy.org/doc/numpy-1.14.2/reference/generated/numpy.linalg.det.html)\n",
        "\n",
        "6. [Ранг матрицы в NumPy](https://docs.scipy.org/doc/numpy-1.14.2/reference/generated/numpy.linalg.matrix_rank.html)\n",
        "\n",
        "7. [Обращение матриц в NumPy](https://docs.scipy.org/doc/numpy/reference/generated/numpy.linalg.inv.html)"
      ]
    },
    {
      "cell_type": "code",
      "metadata": {
        "id": "aUZxJoS00wkW",
        "colab": {
          "base_uri": "https://localhost:8080/"
        },
        "outputId": "cb8e762e-fe48-4cf0-d467-97e0b5705d63"
      },
      "source": [
        "\r\n",
        "import numpy as np\r\n",
        "A = np.array([[1, -2], [3, 0]])\r\n",
        "B = np.array([[4, -1], [0, 5]])\r\n",
        "print(f'Матрица С = A + B\\n{A + B}')"
      ],
      "execution_count": 3,
      "outputs": [
        {
          "output_type": "stream",
          "text": [
            "Матрица С = A + B\n",
            "[[ 5 -3]\n",
            " [ 3  5]]\n"
          ],
          "name": "stdout"
        }
      ]
    },
    {
      "cell_type": "code",
      "metadata": {
        "id": "yMLqj8kU2D3U",
        "colab": {
          "base_uri": "https://localhost:8080/"
        },
        "outputId": "a89b92fd-7c73-48c7-9f6e-e4639e620751"
      },
      "source": [
        "A = np.array([[1, -2], [3, 0]])\r\n",
        "B =  np.array([[4, -1], [0, 5]])\r\n",
        "print(f'Матрица A\\n{A}')\r\n",
        "print(f'Матрица B\\n{B}')\r\n",
        "print(f'Матрица AB\\n{np.dot(A, B)}')"
      ],
      "execution_count": 4,
      "outputs": [
        {
          "output_type": "stream",
          "text": [
            "Матрица A\n",
            "[[ 1 -2]\n",
            " [ 3  0]]\n",
            "Матрица B\n",
            "[[ 4 -1]\n",
            " [ 0  5]]\n",
            "Матрица AB\n",
            "[[  4 -11]\n",
            " [ 12  -3]]\n"
          ],
          "name": "stdout"
        }
      ]
    },
    {
      "cell_type": "code",
      "metadata": {
        "colab": {
          "base_uri": "https://localhost:8080/"
        },
        "id": "xa_iGggp26Ym",
        "outputId": "f3e542e1-c647-4c0e-edb0-39ebbf25f082"
      },
      "source": [
        "A = np.array([[1, 7], [3, -6]])\r\n",
        "B = np.array([[0, 5], [2, -1]])\r\n",
        "C = np.array([[2, -4], [1, 1]])\r\n",
        "k1 = 3\r\n",
        "k2 = -2\r\n",
        "k3 = 4\r\n",
        "\r\n",
        "print(f'Матрица 3*А-2*B+4*C\\n{k1*A+k2*B+k3*C}')"
      ],
      "execution_count": 5,
      "outputs": [
        {
          "output_type": "stream",
          "text": [
            "Матрица 3*А-2*B+4*C\n",
            "[[ 11  -5]\n",
            " [  9 -12]]\n"
          ],
          "name": "stdout"
        }
      ]
    },
    {
      "cell_type": "code",
      "metadata": {
        "colab": {
          "base_uri": "https://localhost:8080/"
        },
        "id": "Kq6RmbUH5w27",
        "outputId": "7b2d7370-5a9b-400f-c9c9-81408fc37f37"
      },
      "source": [
        "A = np.array([[4, 1], [5, -2], [2, 3]])\r\n",
        "\r\n",
        "np.transpose(A)\r\n"
      ],
      "execution_count": 14,
      "outputs": [
        {
          "output_type": "execute_result",
          "data": {
            "text/plain": [
              "array([[ 4,  5,  2],\n",
              "       [ 1, -2,  3]])"
            ]
          },
          "metadata": {
            "tags": []
          },
          "execution_count": 14
        }
      ]
    },
    {
      "cell_type": "code",
      "metadata": {
        "colab": {
          "base_uri": "https://localhost:8080/"
        },
        "id": "q_BsHPfG7gI7",
        "outputId": "e3eea82d-146d-453f-a04d-be6f32dd6174"
      },
      "source": [
        "np.dot(A, np.transpose(A))"
      ],
      "execution_count": 15,
      "outputs": [
        {
          "output_type": "execute_result",
          "data": {
            "text/plain": [
              "array([[17, 18, 11],\n",
              "       [18, 29,  4],\n",
              "       [11,  4, 13]])"
            ]
          },
          "metadata": {
            "tags": []
          },
          "execution_count": 15
        }
      ]
    },
    {
      "cell_type": "code",
      "metadata": {
        "colab": {
          "base_uri": "https://localhost:8080/"
        },
        "id": "h1FUCaec9Heb",
        "outputId": "20cb51d9-a219-4902-adc4-a7c313e8d925"
      },
      "source": [
        "np.dot(np.transpose(A), A)"
      ],
      "execution_count": 21,
      "outputs": [
        {
          "output_type": "execute_result",
          "data": {
            "text/plain": [
              "array([[45,  0],\n",
              "       [ 0, 14]])"
            ]
          },
          "metadata": {
            "tags": []
          },
          "execution_count": 21
        }
      ]
    },
    {
      "cell_type": "code",
      "metadata": {
        "colab": {
          "base_uri": "https://localhost:8080/",
          "height": 352
        },
        "id": "0eYtXUfA-ErB",
        "outputId": "a4958ca4-915e-4e7a-a15c-3c54e9324523"
      },
      "source": [
        "A = np.matrix('sin(x) cos(x); cos(x) sin(x)')\r\n",
        "print(f'Матрица:\\n{A}')\r\n",
        "print(f'Определитель:\\n{np.linalg.det(A):.0f}')"
      ],
      "execution_count": 36,
      "outputs": [
        {
          "output_type": "error",
          "ename": "ValueError",
          "evalue": "ignored",
          "traceback": [
            "\u001b[0;31m---------------------------------------------------------------------------\u001b[0m",
            "\u001b[0;31mValueError\u001b[0m                                Traceback (most recent call last)",
            "\u001b[0;32m<ipython-input-36-21d156854700>\u001b[0m in \u001b[0;36m<module>\u001b[0;34m()\u001b[0m\n\u001b[0;32m----> 1\u001b[0;31m \u001b[0mA\u001b[0m \u001b[0;34m=\u001b[0m \u001b[0mnp\u001b[0m\u001b[0;34m.\u001b[0m\u001b[0mmatrix\u001b[0m\u001b[0;34m(\u001b[0m\u001b[0;34m'sin(x) cos(x); cos(x) sin(x)'\u001b[0m\u001b[0;34m)\u001b[0m\u001b[0;34m\u001b[0m\u001b[0;34m\u001b[0m\u001b[0m\n\u001b[0m\u001b[1;32m      2\u001b[0m \u001b[0mprint\u001b[0m\u001b[0;34m(\u001b[0m\u001b[0;34mf'Матрица:\\n{A}'\u001b[0m\u001b[0;34m)\u001b[0m\u001b[0;34m\u001b[0m\u001b[0;34m\u001b[0m\u001b[0m\n\u001b[1;32m      3\u001b[0m \u001b[0mprint\u001b[0m\u001b[0;34m(\u001b[0m\u001b[0;34mf'Определитель:\\n{np.linalg.det(A):.0f}'\u001b[0m\u001b[0;34m)\u001b[0m\u001b[0;34m\u001b[0m\u001b[0;34m\u001b[0m\u001b[0m\n",
            "\u001b[0;32m/usr/local/lib/python3.6/dist-packages/numpy/matrixlib/defmatrix.py\u001b[0m in \u001b[0;36m__new__\u001b[0;34m(subtype, data, dtype, copy)\u001b[0m\n\u001b[1;32m    140\u001b[0m \u001b[0;34m\u001b[0m\u001b[0m\n\u001b[1;32m    141\u001b[0m         \u001b[0;32mif\u001b[0m \u001b[0misinstance\u001b[0m\u001b[0;34m(\u001b[0m\u001b[0mdata\u001b[0m\u001b[0;34m,\u001b[0m \u001b[0mstr\u001b[0m\u001b[0;34m)\u001b[0m\u001b[0;34m:\u001b[0m\u001b[0;34m\u001b[0m\u001b[0;34m\u001b[0m\u001b[0m\n\u001b[0;32m--> 142\u001b[0;31m             \u001b[0mdata\u001b[0m \u001b[0;34m=\u001b[0m \u001b[0m_convert_from_string\u001b[0m\u001b[0;34m(\u001b[0m\u001b[0mdata\u001b[0m\u001b[0;34m)\u001b[0m\u001b[0;34m\u001b[0m\u001b[0;34m\u001b[0m\u001b[0m\n\u001b[0m\u001b[1;32m    143\u001b[0m \u001b[0;34m\u001b[0m\u001b[0m\n\u001b[1;32m    144\u001b[0m         \u001b[0;31m# now convert data to an array\u001b[0m\u001b[0;34m\u001b[0m\u001b[0;34m\u001b[0m\u001b[0;34m\u001b[0m\u001b[0m\n",
            "\u001b[0;32m/usr/local/lib/python3.6/dist-packages/numpy/matrixlib/defmatrix.py\u001b[0m in \u001b[0;36m_convert_from_string\u001b[0;34m(data)\u001b[0m\n\u001b[1;32m     24\u001b[0m         \u001b[0;32mfor\u001b[0m \u001b[0mcol\u001b[0m \u001b[0;32min\u001b[0m \u001b[0mtrow\u001b[0m\u001b[0;34m:\u001b[0m\u001b[0;34m\u001b[0m\u001b[0;34m\u001b[0m\u001b[0m\n\u001b[1;32m     25\u001b[0m             \u001b[0mtemp\u001b[0m \u001b[0;34m=\u001b[0m \u001b[0mcol\u001b[0m\u001b[0;34m.\u001b[0m\u001b[0msplit\u001b[0m\u001b[0;34m(\u001b[0m\u001b[0;34m)\u001b[0m\u001b[0;34m\u001b[0m\u001b[0;34m\u001b[0m\u001b[0m\n\u001b[0;32m---> 26\u001b[0;31m             \u001b[0mnewrow\u001b[0m\u001b[0;34m.\u001b[0m\u001b[0mextend\u001b[0m\u001b[0;34m(\u001b[0m\u001b[0mmap\u001b[0m\u001b[0;34m(\u001b[0m\u001b[0mast\u001b[0m\u001b[0;34m.\u001b[0m\u001b[0mliteral_eval\u001b[0m\u001b[0;34m,\u001b[0m \u001b[0mtemp\u001b[0m\u001b[0;34m)\u001b[0m\u001b[0;34m)\u001b[0m\u001b[0;34m\u001b[0m\u001b[0;34m\u001b[0m\u001b[0m\n\u001b[0m\u001b[1;32m     27\u001b[0m         \u001b[0;32mif\u001b[0m \u001b[0mcount\u001b[0m \u001b[0;34m==\u001b[0m \u001b[0;36m0\u001b[0m\u001b[0;34m:\u001b[0m\u001b[0;34m\u001b[0m\u001b[0;34m\u001b[0m\u001b[0m\n\u001b[1;32m     28\u001b[0m             \u001b[0mNcols\u001b[0m \u001b[0;34m=\u001b[0m \u001b[0mlen\u001b[0m\u001b[0;34m(\u001b[0m\u001b[0mnewrow\u001b[0m\u001b[0;34m)\u001b[0m\u001b[0;34m\u001b[0m\u001b[0;34m\u001b[0m\u001b[0m\n",
            "\u001b[0;32m/usr/lib/python3.6/ast.py\u001b[0m in \u001b[0;36mliteral_eval\u001b[0;34m(node_or_string)\u001b[0m\n\u001b[1;32m     83\u001b[0m                     \u001b[0;32mreturn\u001b[0m \u001b[0mleft\u001b[0m \u001b[0;34m-\u001b[0m \u001b[0mright\u001b[0m\u001b[0;34m\u001b[0m\u001b[0;34m\u001b[0m\u001b[0m\n\u001b[1;32m     84\u001b[0m         \u001b[0;32mraise\u001b[0m \u001b[0mValueError\u001b[0m\u001b[0;34m(\u001b[0m\u001b[0;34m'malformed node or string: '\u001b[0m \u001b[0;34m+\u001b[0m \u001b[0mrepr\u001b[0m\u001b[0;34m(\u001b[0m\u001b[0mnode\u001b[0m\u001b[0;34m)\u001b[0m\u001b[0;34m)\u001b[0m\u001b[0;34m\u001b[0m\u001b[0;34m\u001b[0m\u001b[0m\n\u001b[0;32m---> 85\u001b[0;31m     \u001b[0;32mreturn\u001b[0m \u001b[0m_convert\u001b[0m\u001b[0;34m(\u001b[0m\u001b[0mnode_or_string\u001b[0m\u001b[0;34m)\u001b[0m\u001b[0;34m\u001b[0m\u001b[0;34m\u001b[0m\u001b[0m\n\u001b[0m\u001b[1;32m     86\u001b[0m \u001b[0;34m\u001b[0m\u001b[0m\n\u001b[1;32m     87\u001b[0m \u001b[0;34m\u001b[0m\u001b[0m\n",
            "\u001b[0;32m/usr/lib/python3.6/ast.py\u001b[0m in \u001b[0;36m_convert\u001b[0;34m(node)\u001b[0m\n\u001b[1;32m     82\u001b[0m                 \u001b[0;32melse\u001b[0m\u001b[0;34m:\u001b[0m\u001b[0;34m\u001b[0m\u001b[0;34m\u001b[0m\u001b[0m\n\u001b[1;32m     83\u001b[0m                     \u001b[0;32mreturn\u001b[0m \u001b[0mleft\u001b[0m \u001b[0;34m-\u001b[0m \u001b[0mright\u001b[0m\u001b[0;34m\u001b[0m\u001b[0;34m\u001b[0m\u001b[0m\n\u001b[0;32m---> 84\u001b[0;31m         \u001b[0;32mraise\u001b[0m \u001b[0mValueError\u001b[0m\u001b[0;34m(\u001b[0m\u001b[0;34m'malformed node or string: '\u001b[0m \u001b[0;34m+\u001b[0m \u001b[0mrepr\u001b[0m\u001b[0;34m(\u001b[0m\u001b[0mnode\u001b[0m\u001b[0;34m)\u001b[0m\u001b[0;34m)\u001b[0m\u001b[0;34m\u001b[0m\u001b[0;34m\u001b[0m\u001b[0m\n\u001b[0m\u001b[1;32m     85\u001b[0m     \u001b[0;32mreturn\u001b[0m \u001b[0m_convert\u001b[0m\u001b[0;34m(\u001b[0m\u001b[0mnode_or_string\u001b[0m\u001b[0;34m)\u001b[0m\u001b[0;34m\u001b[0m\u001b[0;34m\u001b[0m\u001b[0m\n\u001b[1;32m     86\u001b[0m \u001b[0;34m\u001b[0m\u001b[0m\n",
            "\u001b[0;31mValueError\u001b[0m: malformed node or string: <_ast.Call object at 0x7f02da445630>"
          ]
        }
      ]
    },
    {
      "cell_type": "code",
      "metadata": {
        "colab": {
          "base_uri": "https://localhost:8080/"
        },
        "id": "M4Dfud8RBjMh",
        "outputId": "699e519d-69f9-4c14-9d72-5c058e98cf25"
      },
      "source": [
        "A = np.matrix('8 4 6; 0 5 1; 0 0 9')\r\n",
        "print(A)"
      ],
      "execution_count": 27,
      "outputs": [
        {
          "output_type": "stream",
          "text": [
            "[[8 4 6]\n",
            " [0 5 1]\n",
            " [0 0 9]]\n"
          ],
          "name": "stdout"
        }
      ]
    },
    {
      "cell_type": "code",
      "metadata": {
        "colab": {
          "base_uri": "https://localhost:8080/"
        },
        "id": "HJFzouatFOEq",
        "outputId": "d022638c-3c27-431c-bc9d-b047556c652e"
      },
      "source": [
        "round(np.linalg.det(A), 1)\r\n"
      ],
      "execution_count": 32,
      "outputs": [
        {
          "output_type": "execute_result",
          "data": {
            "text/plain": [
              "360.0"
            ]
          },
          "metadata": {
            "tags": []
          },
          "execution_count": 32
        }
      ]
    },
    {
      "cell_type": "code",
      "metadata": {
        "colab": {
          "base_uri": "https://localhost:8080/"
        },
        "id": "tJdx8wCJHuYf",
        "outputId": "a0418041-0740-4b5d-ff56-ce14fd62beca"
      },
      "source": [
        "A = np.matrix('2 3 4; 5 6 7; 8 9 10')\r\n",
        "round(np.linalg.det(A), 1)"
      ],
      "execution_count": 37,
      "outputs": [
        {
          "output_type": "execute_result",
          "data": {
            "text/plain": [
              "0.0"
            ]
          },
          "metadata": {
            "tags": []
          },
          "execution_count": 37
        }
      ]
    },
    {
      "cell_type": "code",
      "metadata": {
        "colab": {
          "base_uri": "https://localhost:8080/"
        },
        "id": "-YmPzKDqKTnl",
        "outputId": "8d24a044-edf2-487d-a596-48fcb25898d1"
      },
      "source": [
        "A = np.matrix('-2 7 -3; 4 -14 6; -3 7 13')\r\n",
        "round(np.linalg.det(A), 1)"
      ],
      "execution_count": 38,
      "outputs": [
        {
          "output_type": "execute_result",
          "data": {
            "text/plain": [
              "0.0"
            ]
          },
          "metadata": {
            "tags": []
          },
          "execution_count": 38
        }
      ]
    },
    {
      "cell_type": "code",
      "metadata": {
        "colab": {
          "base_uri": "https://localhost:8080/"
        },
        "id": "3oboI9auXHIX",
        "outputId": "1b0a71cf-453b-494e-fb34-d3c4b6dd4758"
      },
      "source": [
        "x = [1, 2, 3]\r\n",
        "y = [1, 1, 1]\r\n",
        "z = [2, 3, 4]\r\n",
        "\r\n",
        "a = np.array([x, y, z])\r\n",
        "r = np.linalg.matrix_rank(a)\r\n",
        "\r\n",
        "print(f'Ранг матрицы: {r}')"
      ],
      "execution_count": 39,
      "outputs": [
        {
          "output_type": "stream",
          "text": [
            "Ранг матрицы: 2\n"
          ],
          "name": "stdout"
        }
      ]
    },
    {
      "cell_type": "code",
      "metadata": {
        "colab": {
          "base_uri": "https://localhost:8080/"
        },
        "id": "VULXhqcfXXEc",
        "outputId": "7a4785f2-c7c1-4439-838b-39f67979ae63"
      },
      "source": [
        "x = [0, 0, 2, 1]\r\n",
        "y = [0, 0, 2, 2]\r\n",
        "z = [0, 0, 4, 3]\r\n",
        "w = [2, 3, 5, 6]\r\n",
        "\r\n",
        "a = np.array([x, y, z, w])\r\n",
        "r = np.linalg.matrix_rank(a)\r\n",
        "\r\n",
        "print(f'Ранг матрицы: {r}')"
      ],
      "execution_count": 40,
      "outputs": [
        {
          "output_type": "stream",
          "text": [
            "Ранг матрицы: 3\n"
          ],
          "name": "stdout"
        }
      ]
    },
    {
      "cell_type": "code",
      "metadata": {
        "id": "IqT7DhneXy8X"
      },
      "source": [
        ""
      ],
      "execution_count": null,
      "outputs": []
    }
  ]
}